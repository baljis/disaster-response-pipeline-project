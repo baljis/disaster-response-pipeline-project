{
 "cells": [
  {
   "cell_type": "markdown",
   "id": "6cd26012-b0ce-4869-9db1-91ed14b3edfb",
   "metadata": {},
   "source": [
    "## Fun with data"
   ]
  },
  {
   "cell_type": "code",
   "execution_count": null,
   "id": "151e0952-ddc3-460b-bd9b-ebe521867442",
   "metadata": {},
   "outputs": [],
   "source": []
  }
 ],
 "metadata": {
  "kernelspec": {
   "display_name": "Python 3 (ipykernel)",
   "language": "python",
   "name": "python3"
  },
  "language_info": {
   "codemirror_mode": {
    "name": "ipython",
    "version": 3
   },
   "file_extension": ".py",
   "mimetype": "text/x-python",
   "name": "python",
   "nbconvert_exporter": "python",
   "pygments_lexer": "ipython3",
   "version": "3.9.7"
  }
 },
 "nbformat": 4,
 "nbformat_minor": 5
}
