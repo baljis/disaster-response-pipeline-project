{
 "cells": [
  {
   "cell_type": "code",
   "execution_count": 8,
   "id": "7800707e-f36a-40ff-9aaa-f7ba38adcd2d",
   "metadata": {},
   "outputs": [],
   "source": [
    "import joblib\n",
    "from nltk.stem import WordNetLemmatizer\n",
    "from nltk.tokenize import word_tokenize\n",
    "import pandas as pd\n",
    "from sqlalchemy import create_engine"
   ]
  },
  {
   "cell_type": "code",
   "execution_count": 2,
   "id": "20b90e6b-f410-4fdb-bfd0-b52d8a3e129d",
   "metadata": {},
   "outputs": [],
   "source": [
    "def tokenize(text):\n",
    "    tokens = word_tokenize(text)\n",
    "    lemmatizer = WordNetLemmatizer()\n",
    "\n",
    "    clean_tokens = []\n",
    "    for tok in tokens:\n",
    "        clean_tok = lemmatizer.lemmatize(tok).lower().strip()\n",
    "        clean_tokens.append(clean_tok)\n",
    "\n",
    "    return clean_tokens"
   ]
  },
  {
   "cell_type": "code",
   "execution_count": 3,
   "id": "59b81d4f-bcfb-468a-816f-4054dee3ca79",
   "metadata": {},
   "outputs": [],
   "source": [
    "model = joblib.load('models/classifier.pkl')"
   ]
  },
  {
   "cell_type": "code",
   "execution_count": 12,
   "id": "b9eff908-eb7f-4d1b-8622-e262e3429680",
   "metadata": {},
   "outputs": [],
   "source": [
    "y_out = model.predict(['Help i nedd food and water, i am dying of thi'])[0]"
   ]
  },
  {
   "cell_type": "code",
   "execution_count": 13,
   "id": "9ed913c7-1075-4ace-8e45-ce4dd17023d9",
   "metadata": {},
   "outputs": [
    {
     "data": {
      "text/plain": [
       "array(['1', '1', '0', '1', '0', '0', '0', '0', '0', '0', '1', '1', '0',\n",
       "       '0', '0', '0', '0', '0', '0', '0', '0', '0', '0', '0', '0', '0',\n",
       "       '0', '0', '0', '0', '0', '0', '0', '0', '0', '1'], dtype=object)"
      ]
     },
     "execution_count": 13,
     "metadata": {},
     "output_type": "execute_result"
    }
   ],
   "source": [
    "y_out"
   ]
  },
  {
   "cell_type": "code",
   "execution_count": 10,
   "id": "a3e76286-a347-4381-87d9-7abe270095b2",
   "metadata": {},
   "outputs": [],
   "source": [
    "engine = create_engine('sqlite:///data/YourDatabaseName.db')\n",
    "df = pd.read_sql_table('messages_categories', engine)"
   ]
  },
  {
   "cell_type": "code",
   "execution_count": 11,
   "id": "49c2b2bb-3d7c-468f-a8fa-5ad699edc2d5",
   "metadata": {},
   "outputs": [
    {
     "data": {
      "text/plain": [
       "Index(['related', 'request', 'offer', 'aid_related', 'medical_help',\n",
       "       'medical_products', 'search_and_rescue', 'security', 'military',\n",
       "       'child_alone', 'water', 'food', 'shelter', 'clothing', 'money',\n",
       "       'missing_people', 'refugees', 'death', 'other_aid',\n",
       "       'infrastructure_related', 'transport', 'buildings', 'electricity',\n",
       "       'tools', 'hospitals', 'shops', 'aid_centers', 'other_infrastructure',\n",
       "       'weather_related', 'floods', 'storm', 'fire', 'earthquake', 'cold',\n",
       "       'other_weather', 'direct_report'],\n",
       "      dtype='object')"
      ]
     },
     "execution_count": 11,
     "metadata": {},
     "output_type": "execute_result"
    }
   ],
   "source": [
    "df.columns[3:]"
   ]
  },
  {
   "cell_type": "code",
   "execution_count": 14,
   "id": "3a087004-c8ab-4dae-92f4-1eb21785fa03",
   "metadata": {},
   "outputs": [],
   "source": [
    "classification_results = dict(zip(df.columns[3:], y_out))"
   ]
  },
  {
   "cell_type": "code",
   "execution_count": 15,
   "id": "fdc780a5-f362-4775-be2a-606d6625aac5",
   "metadata": {},
   "outputs": [
    {
     "data": {
      "text/plain": [
       "{'related': '1',\n",
       " 'request': '1',\n",
       " 'offer': '0',\n",
       " 'aid_related': '1',\n",
       " 'medical_help': '0',\n",
       " 'medical_products': '0',\n",
       " 'search_and_rescue': '0',\n",
       " 'security': '0',\n",
       " 'military': '0',\n",
       " 'child_alone': '0',\n",
       " 'water': '1',\n",
       " 'food': '1',\n",
       " 'shelter': '0',\n",
       " 'clothing': '0',\n",
       " 'money': '0',\n",
       " 'missing_people': '0',\n",
       " 'refugees': '0',\n",
       " 'death': '0',\n",
       " 'other_aid': '0',\n",
       " 'infrastructure_related': '0',\n",
       " 'transport': '0',\n",
       " 'buildings': '0',\n",
       " 'electricity': '0',\n",
       " 'tools': '0',\n",
       " 'hospitals': '0',\n",
       " 'shops': '0',\n",
       " 'aid_centers': '0',\n",
       " 'other_infrastructure': '0',\n",
       " 'weather_related': '0',\n",
       " 'floods': '0',\n",
       " 'storm': '0',\n",
       " 'fire': '0',\n",
       " 'earthquake': '0',\n",
       " 'cold': '0',\n",
       " 'other_weather': '0',\n",
       " 'direct_report': '1'}"
      ]
     },
     "execution_count": 15,
     "metadata": {},
     "output_type": "execute_result"
    }
   ],
   "source": [
    "classification_results"
   ]
  },
  {
   "cell_type": "code",
   "execution_count": null,
   "id": "f881e543-3b99-4467-8021-a4f5a6c43b66",
   "metadata": {},
   "outputs": [],
   "source": []
  }
 ],
 "metadata": {
  "kernelspec": {
   "display_name": "Python 3 (ipykernel)",
   "language": "python",
   "name": "python3"
  },
  "language_info": {
   "codemirror_mode": {
    "name": "ipython",
    "version": 3
   },
   "file_extension": ".py",
   "mimetype": "text/x-python",
   "name": "python",
   "nbconvert_exporter": "python",
   "pygments_lexer": "ipython3",
   "version": "3.9.7"
  }
 },
 "nbformat": 4,
 "nbformat_minor": 5
}
