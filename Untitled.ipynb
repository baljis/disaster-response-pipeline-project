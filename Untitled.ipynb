{
 "cells": [
  {
   "cell_type": "code",
   "execution_count": 46,
   "id": "45291249-2135-4081-8c29-8ccc5c54a9f2",
   "metadata": {},
   "outputs": [],
   "source": [
    "import pandas as pd\n",
    "import numpy as np"
   ]
  },
  {
   "cell_type": "code",
   "execution_count": 47,
   "id": "687a9b12-d186-428d-a761-74bb7d5fac67",
   "metadata": {},
   "outputs": [],
   "source": [
    "d = {'col1' : [1,2,3], 'col2' : ['a','b','c']}\n",
    "df = pd.DataFrame(data = d)"
   ]
  },
  {
   "cell_type": "code",
   "execution_count": 22,
   "id": "dc3a590e-d628-4b3f-baed-4e39e810d667",
   "metadata": {},
   "outputs": [
    {
     "name": "stdout",
     "output_type": "stream",
     "text": [
      "1\n",
      "2\n",
      "3\n"
     ]
    }
   ],
   "source": [
    "for i in df.col1:\n",
    "    print(i)"
   ]
  },
  {
   "cell_type": "code",
   "execution_count": 13,
   "id": "d9694b9e-0d19-4100-9073-e50c0c7f63ff",
   "metadata": {},
   "outputs": [],
   "source": [
    "ls = ['col1:1','col2:2','col3:3']"
   ]
  },
  {
   "cell_type": "code",
   "execution_count": 14,
   "id": "cc887fbe-9ab5-40d9-86e6-94b3fdcd1ae6",
   "metadata": {},
   "outputs": [],
   "source": [
    "ls2 = list(map(lambda x: x.split(':')[0],ls))"
   ]
  },
  {
   "cell_type": "code",
   "execution_count": 15,
   "id": "eb70d443-2bcd-45af-811e-978655cfd351",
   "metadata": {},
   "outputs": [
    {
     "data": {
      "text/plain": [
       "['col1', 'col2', 'col3']"
      ]
     },
     "execution_count": 15,
     "metadata": {},
     "output_type": "execute_result"
    }
   ],
   "source": [
    "ls2"
   ]
  },
  {
   "cell_type": "code",
   "execution_count": 4,
   "id": "5edf4ea4-8cd7-4ccc-ad47-1024e9a2a3dd",
   "metadata": {},
   "outputs": [],
   "source": [
    "df['col3'] = 0"
   ]
  },
  {
   "cell_type": "code",
   "execution_count": 19,
   "id": "e4761a4d-6c53-4ded-af95-e72212e4cf14",
   "metadata": {},
   "outputs": [],
   "source": [
    "df[['col4','col5']] = None"
   ]
  },
  {
   "cell_type": "code",
   "execution_count": 20,
   "id": "e6a97d78-eb46-4254-9cfd-2cfb24fbfc53",
   "metadata": {},
   "outputs": [
    {
     "data": {
      "text/html": [
       "<div>\n",
       "<style scoped>\n",
       "    .dataframe tbody tr th:only-of-type {\n",
       "        vertical-align: middle;\n",
       "    }\n",
       "\n",
       "    .dataframe tbody tr th {\n",
       "        vertical-align: top;\n",
       "    }\n",
       "\n",
       "    .dataframe thead th {\n",
       "        text-align: right;\n",
       "    }\n",
       "</style>\n",
       "<table border=\"1\" class=\"dataframe\">\n",
       "  <thead>\n",
       "    <tr style=\"text-align: right;\">\n",
       "      <th></th>\n",
       "      <th>col1</th>\n",
       "      <th>col2</th>\n",
       "      <th>col3</th>\n",
       "      <th>col4</th>\n",
       "      <th>col5</th>\n",
       "    </tr>\n",
       "  </thead>\n",
       "  <tbody>\n",
       "    <tr>\n",
       "      <th>0</th>\n",
       "      <td>1</td>\n",
       "      <td>a</td>\n",
       "      <td>0</td>\n",
       "      <td>None</td>\n",
       "      <td>None</td>\n",
       "    </tr>\n",
       "    <tr>\n",
       "      <th>1</th>\n",
       "      <td>2</td>\n",
       "      <td>b</td>\n",
       "      <td>0</td>\n",
       "      <td>None</td>\n",
       "      <td>None</td>\n",
       "    </tr>\n",
       "    <tr>\n",
       "      <th>2</th>\n",
       "      <td>3</td>\n",
       "      <td>c</td>\n",
       "      <td>0</td>\n",
       "      <td>None</td>\n",
       "      <td>None</td>\n",
       "    </tr>\n",
       "  </tbody>\n",
       "</table>\n",
       "</div>"
      ],
      "text/plain": [
       "   col1 col2  col3  col4  col5\n",
       "0     1    a     0  None  None\n",
       "1     2    b     0  None  None\n",
       "2     3    c     0  None  None"
      ]
     },
     "execution_count": 20,
     "metadata": {},
     "output_type": "execute_result"
    }
   ],
   "source": [
    "df"
   ]
  },
  {
   "cell_type": "code",
   "execution_count": 21,
   "id": "a56375ca-8eb8-4f7c-9866-27fd849e4056",
   "metadata": {},
   "outputs": [],
   "source": [
    "df['col4'] = 'ds'"
   ]
  },
  {
   "cell_type": "code",
   "execution_count": 47,
   "id": "48c63d50-7b40-4944-b5e1-aa0fd5d95998",
   "metadata": {},
   "outputs": [
    {
     "name": "stderr",
     "output_type": "stream",
     "text": [
      "/Users/baljee/opt/anaconda3/lib/python3.9/site-packages/pandas/core/series.py:1056: SettingWithCopyWarning: \n",
      "A value is trying to be set on a copy of a slice from a DataFrame\n",
      "\n",
      "See the caveats in the documentation: https://pandas.pydata.org/pandas-docs/stable/user_guide/indexing.html#returning-a-view-versus-a-copy\n",
      "  cacher_needs_updating = self._check_is_chained_assignment_possible()\n"
     ]
    }
   ],
   "source": [
    "for i in range(df.shape[0]):\n",
    "    df.iloc[i].col1 = df.iloc[i].col1 * 3"
   ]
  },
  {
   "cell_type": "code",
   "execution_count": 55,
   "id": "b69f976e-2cee-4fe5-b080-365ce4705d16",
   "metadata": {},
   "outputs": [],
   "source": [
    "df.col1 = df.col1.apply(lambda x: x*2)"
   ]
  },
  {
   "cell_type": "code",
   "execution_count": 76,
   "id": "19353128-112e-4d1e-aced-e44850064f37",
   "metadata": {},
   "outputs": [],
   "source": [
    "sampl = [[1,'a'],[2,'b'],[3,'c']]"
   ]
  },
  {
   "cell_type": "code",
   "execution_count": 77,
   "id": "d20f1f04-906f-43ae-945c-5c801d045381",
   "metadata": {},
   "outputs": [],
   "source": [
    "df[['col4','col5']] = sampl"
   ]
  },
  {
   "cell_type": "code",
   "execution_count": 78,
   "id": "3a5b9052-a8d0-4dea-b173-43959e14f009",
   "metadata": {},
   "outputs": [
    {
     "data": {
      "text/html": [
       "<div>\n",
       "<style scoped>\n",
       "    .dataframe tbody tr th:only-of-type {\n",
       "        vertical-align: middle;\n",
       "    }\n",
       "\n",
       "    .dataframe tbody tr th {\n",
       "        vertical-align: top;\n",
       "    }\n",
       "\n",
       "    .dataframe thead th {\n",
       "        text-align: right;\n",
       "    }\n",
       "</style>\n",
       "<table border=\"1\" class=\"dataframe\">\n",
       "  <thead>\n",
       "    <tr style=\"text-align: right;\">\n",
       "      <th></th>\n",
       "      <th>col1</th>\n",
       "      <th>col2</th>\n",
       "      <th>col3</th>\n",
       "      <th>col4</th>\n",
       "      <th>col5</th>\n",
       "    </tr>\n",
       "  </thead>\n",
       "  <tbody>\n",
       "    <tr>\n",
       "      <th>0</th>\n",
       "      <td>8</td>\n",
       "      <td>a</td>\n",
       "      <td>0</td>\n",
       "      <td>1</td>\n",
       "      <td>a</td>\n",
       "    </tr>\n",
       "    <tr>\n",
       "      <th>1</th>\n",
       "      <td>10</td>\n",
       "      <td>b</td>\n",
       "      <td>0</td>\n",
       "      <td>2</td>\n",
       "      <td>b</td>\n",
       "    </tr>\n",
       "    <tr>\n",
       "      <th>2</th>\n",
       "      <td>12</td>\n",
       "      <td>c</td>\n",
       "      <td>0</td>\n",
       "      <td>3</td>\n",
       "      <td>c</td>\n",
       "    </tr>\n",
       "  </tbody>\n",
       "</table>\n",
       "</div>"
      ],
      "text/plain": [
       "   col1 col2  col3 col4 col5\n",
       "0     8    a     0    1    a\n",
       "1    10    b     0    2    b\n",
       "2    12    c     0    3    c"
      ]
     },
     "execution_count": 78,
     "metadata": {},
     "output_type": "execute_result"
    }
   ],
   "source": [
    "df.itertuples()"
   ]
  },
  {
   "cell_type": "code",
   "execution_count": 53,
   "id": "5ae4bff5-d28d-493a-a5b6-b8039469b6e2",
   "metadata": {},
   "outputs": [],
   "source": [
    "def ret_df(*args):\n",
    "    sam = None\n",
    "    for i in args:\n",
    "        try:\n",
    "            sam = sam.join(i)\n",
    "        except:\n",
    "            sam = i\n",
    "    return [args,sam]"
   ]
  },
  {
   "cell_type": "code",
   "execution_count": 54,
   "id": "7222650c-9b6d-4391-9f06-5b30003a939b",
   "metadata": {},
   "outputs": [
    {
     "data": {
      "text/html": [
       "<div>\n",
       "<style scoped>\n",
       "    .dataframe tbody tr th:only-of-type {\n",
       "        vertical-align: middle;\n",
       "    }\n",
       "\n",
       "    .dataframe tbody tr th {\n",
       "        vertical-align: top;\n",
       "    }\n",
       "\n",
       "    .dataframe thead th {\n",
       "        text-align: right;\n",
       "    }\n",
       "</style>\n",
       "<table border=\"1\" class=\"dataframe\">\n",
       "  <thead>\n",
       "    <tr style=\"text-align: right;\">\n",
       "      <th></th>\n",
       "      <th>col1</th>\n",
       "      <th>col2</th>\n",
       "    </tr>\n",
       "  </thead>\n",
       "  <tbody>\n",
       "    <tr>\n",
       "      <th>0</th>\n",
       "      <td>1</td>\n",
       "      <td>a</td>\n",
       "    </tr>\n",
       "    <tr>\n",
       "      <th>1</th>\n",
       "      <td>2</td>\n",
       "      <td>b</td>\n",
       "    </tr>\n",
       "    <tr>\n",
       "      <th>2</th>\n",
       "      <td>3</td>\n",
       "      <td>c</td>\n",
       "    </tr>\n",
       "  </tbody>\n",
       "</table>\n",
       "</div>"
      ],
      "text/plain": [
       "   col1 col2\n",
       "0     1    a\n",
       "1     2    b\n",
       "2     3    c"
      ]
     },
     "execution_count": 54,
     "metadata": {},
     "output_type": "execute_result"
    }
   ],
   "source": [
    "df"
   ]
  },
  {
   "cell_type": "code",
   "execution_count": 55,
   "id": "ab1f8a9f-d2a3-4577-95dd-25aa55e88a9f",
   "metadata": {},
   "outputs": [],
   "source": [
    "d2 = {'col3' : [31,32,33], 'col4' : ['4a','4b','4c']}\n",
    "df2 = pd.DataFrame(data = d2)"
   ]
  },
  {
   "cell_type": "code",
   "execution_count": 56,
   "id": "92edc886-33a6-4a37-926a-975666b800c4",
   "metadata": {},
   "outputs": [
    {
     "data": {
      "text/html": [
       "<div>\n",
       "<style scoped>\n",
       "    .dataframe tbody tr th:only-of-type {\n",
       "        vertical-align: middle;\n",
       "    }\n",
       "\n",
       "    .dataframe tbody tr th {\n",
       "        vertical-align: top;\n",
       "    }\n",
       "\n",
       "    .dataframe thead th {\n",
       "        text-align: right;\n",
       "    }\n",
       "</style>\n",
       "<table border=\"1\" class=\"dataframe\">\n",
       "  <thead>\n",
       "    <tr style=\"text-align: right;\">\n",
       "      <th></th>\n",
       "      <th>col3</th>\n",
       "      <th>col4</th>\n",
       "    </tr>\n",
       "  </thead>\n",
       "  <tbody>\n",
       "    <tr>\n",
       "      <th>0</th>\n",
       "      <td>31</td>\n",
       "      <td>4a</td>\n",
       "    </tr>\n",
       "    <tr>\n",
       "      <th>1</th>\n",
       "      <td>32</td>\n",
       "      <td>4b</td>\n",
       "    </tr>\n",
       "    <tr>\n",
       "      <th>2</th>\n",
       "      <td>33</td>\n",
       "      <td>4c</td>\n",
       "    </tr>\n",
       "  </tbody>\n",
       "</table>\n",
       "</div>"
      ],
      "text/plain": [
       "   col3 col4\n",
       "0    31   4a\n",
       "1    32   4b\n",
       "2    33   4c"
      ]
     },
     "execution_count": 56,
     "metadata": {},
     "output_type": "execute_result"
    }
   ],
   "source": [
    "df2"
   ]
  },
  {
   "cell_type": "code",
   "execution_count": 57,
   "id": "1080c46b-ad64-4bb3-926f-82bb7e143b06",
   "metadata": {},
   "outputs": [],
   "source": [
    "dff = ret_df(df,df2)"
   ]
  },
  {
   "cell_type": "code",
   "execution_count": 58,
   "id": "0f576f65-b60d-4c07-ba6d-eddfbfdfeb1b",
   "metadata": {},
   "outputs": [
    {
     "data": {
      "text/plain": [
       "Index(['col1', 'col2'], dtype='object')"
      ]
     },
     "execution_count": 58,
     "metadata": {},
     "output_type": "execute_result"
    }
   ],
   "source": [
    "dff[0][0].columns"
   ]
  },
  {
   "cell_type": "code",
   "execution_count": 59,
   "id": "fda31034-7269-429f-b6b6-e65247bb634d",
   "metadata": {},
   "outputs": [
    {
     "data": {
      "text/plain": [
       "[(   col1 col2\n",
       "  0     1    a\n",
       "  1     2    b\n",
       "  2     3    c,\n",
       "     col3 col4\n",
       "  0    31   4a\n",
       "  1    32   4b\n",
       "  2    33   4c),\n",
       "    col1 col2  col3 col4\n",
       " 0     1    a    31   4a\n",
       " 1     2    b    32   4b\n",
       " 2     3    c    33   4c]"
      ]
     },
     "execution_count": 59,
     "metadata": {},
     "output_type": "execute_result"
    }
   ],
   "source": [
    "dff"
   ]
  },
  {
   "cell_type": "code",
   "execution_count": null,
   "id": "41131a39-282c-4abc-9dfd-5ad707753fe5",
   "metadata": {},
   "outputs": [],
   "source": []
  }
 ],
 "metadata": {
  "kernelspec": {
   "display_name": "Python 3 (ipykernel)",
   "language": "python",
   "name": "python3"
  },
  "language_info": {
   "codemirror_mode": {
    "name": "ipython",
    "version": 3
   },
   "file_extension": ".py",
   "mimetype": "text/x-python",
   "name": "python",
   "nbconvert_exporter": "python",
   "pygments_lexer": "ipython3",
   "version": "3.9.7"
  }
 },
 "nbformat": 4,
 "nbformat_minor": 5
}
