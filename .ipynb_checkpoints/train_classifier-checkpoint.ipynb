{
 "cells": [
  {
   "cell_type": "markdown",
   "id": "0974470a-8bee-4faf-b6a2-3492db2d0bed",
   "metadata": {},
   "source": [
    "## Test notebook for Training Clasifier"
   ]
  },
  {
   "cell_type": "code",
   "execution_count": null,
   "id": "af3fc4b2-bf45-4f39-8ca0-089f785e8e7e",
   "metadata": {},
   "outputs": [],
   "source": []
  }
 ],
 "metadata": {
  "kernelspec": {
   "display_name": "Python 3 (ipykernel)",
   "language": "python",
   "name": "python3"
  },
  "language_info": {
   "codemirror_mode": {
    "name": "ipython",
    "version": 3
   },
   "file_extension": ".py",
   "mimetype": "text/x-python",
   "name": "python",
   "nbconvert_exporter": "python",
   "pygments_lexer": "ipython3",
   "version": "3.9.7"
  }
 },
 "nbformat": 4,
 "nbformat_minor": 5
}
