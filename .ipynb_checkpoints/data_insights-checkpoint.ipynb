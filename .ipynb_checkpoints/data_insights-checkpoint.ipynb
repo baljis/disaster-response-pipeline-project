{
 "cells": [
  {
   "cell_type": "markdown",
   "id": "6cd26012-b0ce-4869-9db1-91ed14b3edfb",
   "metadata": {},
   "source": [
    "## Fun with data"
   ]
  },
  {
   "cell_type": "code",
   "execution_count": 3,
   "id": "151e0952-ddc3-460b-bd9b-ebe521867442",
   "metadata": {},
   "outputs": [],
   "source": [
    "import pandas as pd\n",
    "import numpy as np\n",
    "import matplotlib.pyplot as plt\n",
    "import seaborn as sns\n",
    "%matplotlib inline\n",
    "\n",
    "data_categories = pd.read_csv('./data/disaster_categories.csv')\n",
    "data_messages = pd.read_csv('./data/disaster_messages.csv')"
   ]
  },
  {
   "cell_type": "code",
   "execution_count": 4,
   "id": "ea8aa719-5ec4-495d-9a14-f0df0ccf9bf7",
   "metadata": {},
   "outputs": [
    {
     "data": {
      "text/html": [
       "<div>\n",
       "<style scoped>\n",
       "    .dataframe tbody tr th:only-of-type {\n",
       "        vertical-align: middle;\n",
       "    }\n",
       "\n",
       "    .dataframe tbody tr th {\n",
       "        vertical-align: top;\n",
       "    }\n",
       "\n",
       "    .dataframe thead th {\n",
       "        text-align: right;\n",
       "    }\n",
       "</style>\n",
       "<table border=\"1\" class=\"dataframe\">\n",
       "  <thead>\n",
       "    <tr style=\"text-align: right;\">\n",
       "      <th></th>\n",
       "      <th>id</th>\n",
       "      <th>categories</th>\n",
       "    </tr>\n",
       "  </thead>\n",
       "  <tbody>\n",
       "    <tr>\n",
       "      <th>0</th>\n",
       "      <td>2</td>\n",
       "      <td>related-1;request-0;offer-0;aid_related-0;medi...</td>\n",
       "    </tr>\n",
       "    <tr>\n",
       "      <th>1</th>\n",
       "      <td>7</td>\n",
       "      <td>related-1;request-0;offer-0;aid_related-1;medi...</td>\n",
       "    </tr>\n",
       "    <tr>\n",
       "      <th>2</th>\n",
       "      <td>8</td>\n",
       "      <td>related-1;request-0;offer-0;aid_related-0;medi...</td>\n",
       "    </tr>\n",
       "    <tr>\n",
       "      <th>3</th>\n",
       "      <td>9</td>\n",
       "      <td>related-1;request-1;offer-0;aid_related-1;medi...</td>\n",
       "    </tr>\n",
       "    <tr>\n",
       "      <th>4</th>\n",
       "      <td>12</td>\n",
       "      <td>related-1;request-0;offer-0;aid_related-0;medi...</td>\n",
       "    </tr>\n",
       "    <tr>\n",
       "      <th>...</th>\n",
       "      <td>...</td>\n",
       "      <td>...</td>\n",
       "    </tr>\n",
       "    <tr>\n",
       "      <th>26243</th>\n",
       "      <td>30261</td>\n",
       "      <td>related-0;request-0;offer-0;aid_related-0;medi...</td>\n",
       "    </tr>\n",
       "    <tr>\n",
       "      <th>26244</th>\n",
       "      <td>30262</td>\n",
       "      <td>related-0;request-0;offer-0;aid_related-0;medi...</td>\n",
       "    </tr>\n",
       "    <tr>\n",
       "      <th>26245</th>\n",
       "      <td>30263</td>\n",
       "      <td>related-1;request-0;offer-0;aid_related-0;medi...</td>\n",
       "    </tr>\n",
       "    <tr>\n",
       "      <th>26246</th>\n",
       "      <td>30264</td>\n",
       "      <td>related-1;request-0;offer-0;aid_related-1;medi...</td>\n",
       "    </tr>\n",
       "    <tr>\n",
       "      <th>26247</th>\n",
       "      <td>30265</td>\n",
       "      <td>related-1;request-0;offer-0;aid_related-0;medi...</td>\n",
       "    </tr>\n",
       "  </tbody>\n",
       "</table>\n",
       "<p>26248 rows × 2 columns</p>\n",
       "</div>"
      ],
      "text/plain": [
       "          id                                         categories\n",
       "0          2  related-1;request-0;offer-0;aid_related-0;medi...\n",
       "1          7  related-1;request-0;offer-0;aid_related-1;medi...\n",
       "2          8  related-1;request-0;offer-0;aid_related-0;medi...\n",
       "3          9  related-1;request-1;offer-0;aid_related-1;medi...\n",
       "4         12  related-1;request-0;offer-0;aid_related-0;medi...\n",
       "...      ...                                                ...\n",
       "26243  30261  related-0;request-0;offer-0;aid_related-0;medi...\n",
       "26244  30262  related-0;request-0;offer-0;aid_related-0;medi...\n",
       "26245  30263  related-1;request-0;offer-0;aid_related-0;medi...\n",
       "26246  30264  related-1;request-0;offer-0;aid_related-1;medi...\n",
       "26247  30265  related-1;request-0;offer-0;aid_related-0;medi...\n",
       "\n",
       "[26248 rows x 2 columns]"
      ]
     },
     "execution_count": 4,
     "metadata": {},
     "output_type": "execute_result"
    }
   ],
   "source": [
    "data_categories"
   ]
  },
  {
   "cell_type": "code",
   "execution_count": 5,
   "id": "f9615b14-7e8d-4481-9a00-69e54140a4cb",
   "metadata": {},
   "outputs": [],
   "source": []
  },
  {
   "cell_type": "code",
   "execution_count": 8,
   "id": "09d6deb8-31dc-4ab5-9dca-f6c066ec16f7",
   "metadata": {
    "jupyter": {
     "source_hidden": true
    },
    "tags": []
   },
   "outputs": [],
   "source": [
    "def new_rows(df : \"dataframe\", col : \"col_name\", o_split: \"outer symbol\", i_split: \"inner symbol\") -> \"new_df\":\n",
    "    row = df[col][0]\n",
    "    split_row = row.split(o_split)\n",
    "    col_list = [pairs.split(i_split)[0] for pairs in split_row]\n",
    "    df[col_list] = None\n",
    "    \n",
    "    final_ls = []\n",
    "    \n",
    "    def split_row_vals(row_val):\n",
    "        row_split = row_val.split(o_split)\n",
    "        vals = [val.split(i_split)[-1] for val in row_split]\n",
    "        final_ls.append(vals)\n",
    "        \n",
    "    df[col].apply(lambda x : split_row_vals(x))\n",
    "    df[list(df.columns[2:])] = final_ls\n",
    "    \n",
    "    return df.drop([col],axis = 1)\n",
    "                "
   ]
  },
  {
   "cell_type": "code",
   "execution_count": 9,
   "id": "e2c75a53-379c-4c99-94ea-7c7b5a73c729",
   "metadata": {},
   "outputs": [],
   "source": [
    "data_c_cpy = data_categories.copy()\n",
    "data_c_cpy = new_rows(data_c_cpy,'categories',';','-')"
   ]
  },
  {
   "cell_type": "code",
   "execution_count": 10,
   "id": "4b169af7-53e4-476f-b9db-a3d99812cf24",
   "metadata": {},
   "outputs": [
    {
     "data": {
      "text/plain": [
       "Index(['id', 'related', 'request', 'offer', 'aid_related', 'medical_help',\n",
       "       'medical_products', 'search_and_rescue', 'security', 'military',\n",
       "       'child_alone', 'water', 'food', 'shelter', 'clothing', 'money',\n",
       "       'missing_people', 'refugees', 'death', 'other_aid',\n",
       "       'infrastructure_related', 'transport', 'buildings', 'electricity',\n",
       "       'tools', 'hospitals', 'shops', 'aid_centers', 'other_infrastructure',\n",
       "       'weather_related', 'floods', 'storm', 'fire', 'earthquake', 'cold',\n",
       "       'other_weather', 'direct_report'],\n",
       "      dtype='object')"
      ]
     },
     "execution_count": 10,
     "metadata": {},
     "output_type": "execute_result"
    }
   ],
   "source": [
    "data_c_cpy.columns"
   ]
  },
  {
   "cell_type": "code",
   "execution_count": null,
   "id": "d9649972-d355-4521-88ef-ee4b43e333f8",
   "metadata": {},
   "outputs": [],
   "source": []
  }
 ],
 "metadata": {
  "kernelspec": {
   "display_name": "Python 3 (ipykernel)",
   "language": "python",
   "name": "python3"
  },
  "language_info": {
   "codemirror_mode": {
    "name": "ipython",
    "version": 3
   },
   "file_extension": ".py",
   "mimetype": "text/x-python",
   "name": "python",
   "nbconvert_exporter": "python",
   "pygments_lexer": "ipython3",
   "version": "3.9.7"
  }
 },
 "nbformat": 4,
 "nbformat_minor": 5
}
