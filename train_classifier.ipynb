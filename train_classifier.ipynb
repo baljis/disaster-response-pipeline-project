{
 "cells": [
  {
   "cell_type": "markdown",
   "id": "0974470a-8bee-4faf-b6a2-3492db2d0bed",
   "metadata": {},
   "source": [
    "## Test notebook for Training Clasifier"
   ]
  },
  {
   "cell_type": "code",
   "execution_count": 21,
   "id": "79660f5e-f1a8-49c4-83f8-b5c3245f5e99",
   "metadata": {},
   "outputs": [],
   "source": [
    "import re\n",
    "import pandas as pd\n",
    "import numpy as np\n",
    "import nltk\n",
    "import sqlite3 as sq\n",
    "from nltk.corpus import stopwords\n",
    "from nltk.tokenize import word_tokenize\n",
    "from nltk.stem import WordNetLemmatizer\n",
    "from sklearn.model_selection import train_test_split\n",
    "from sklearn.feature_extraction.text import CountVectorizer, TfidfTransformer\n",
    "from sklearn.ensemble import RandomForestClassifier\n",
    "from sklearn.metrics import confusion_matrix, multilabel_confusion_matrix"
   ]
  },
  {
   "cell_type": "code",
   "execution_count": 2,
   "id": "257206d4-752a-4c1f-82d6-d1e3e45f9a67",
   "metadata": {},
   "outputs": [],
   "source": [
    "def get_df():\n",
    "    db = sq.connect('data/YourDatabaseName.db')\n",
    "    df = pd.read_sql('SELECT * FROM messages_categories', con = db)\n",
    "    \n",
    "    return df"
   ]
  },
  {
   "cell_type": "code",
   "execution_count": 3,
   "id": "a47fb000-a446-4fe1-bf0d-4b17a29246d9",
   "metadata": {},
   "outputs": [],
   "source": [
    "def partition_msg_cat(df):\n",
    "    messages = df.message\n",
    "    categories = df[df.columns[3:]]\n",
    "    \n",
    "    return messages,categories"
   ]
  },
  {
   "cell_type": "code",
   "execution_count": 4,
   "id": "9d0d3bbf-42f3-4a64-a13b-a582d1f3ce81",
   "metadata": {},
   "outputs": [],
   "source": [
    "stop_words = stopwords.words('english')\n",
    "lemmatizer = WordNetLemmatizer()"
   ]
  },
  {
   "cell_type": "code",
   "execution_count": 36,
   "id": "80ff42a5-7559-49eb-9c9b-584069ade901",
   "metadata": {},
   "outputs": [],
   "source": [
    "def tokenize(text):\n",
    "    text = re.sub(r'[^a-zA-Z0-9]',\" \",text)\n",
    "    \n",
    "    tokens = word_tokenize(text.lower())\n",
    "    \n",
    "    stem_tk = [lemmatizer.lemmatize(token) for token in tokens if token not in stop_words]\n",
    "    \n",
    "    return stem_tk"
   ]
  },
  {
   "cell_type": "code",
   "execution_count": 37,
   "id": "1a2cab82-5ec0-4e7a-a5cf-11613dddd003",
   "metadata": {},
   "outputs": [],
   "source": [
    "df = get_df()\n",
    "X,y =  partition_msg_cat(df)\n",
    "X_train, X_test, y_train, y_test = train_test_split(X, y, test_size=.30, random_state=42)"
   ]
  },
  {
   "cell_type": "code",
   "execution_count": 38,
   "id": "a4e69457-a6da-4368-9739-2fc36c507dd7",
   "metadata": {},
   "outputs": [
    {
     "data": {
      "text/plain": [
       "RandomForestClassifier()"
      ]
     },
     "execution_count": 38,
     "metadata": {},
     "output_type": "execute_result"
    }
   ],
   "source": [
    "vect = CountVectorizer(tokenizer = tokenize)\n",
    "tfidf = TfidfTransformer(smooth_idf=False)\n",
    "claf = RandomForestClassifier()\n",
    "\n",
    "X_train_vec = vect.fit_transform(X_train)\n",
    "X_train_tfidf = tfidf.fit_transform(X_train_vec)\n",
    "claf.fit(X_train_tfidf,y_train)"
   ]
  },
  {
   "cell_type": "code",
   "execution_count": 39,
   "id": "3fc6fd1f-3540-4eae-9d43-e94fa5f1f43e",
   "metadata": {},
   "outputs": [],
   "source": [
    "X_test_vec = vect.transform(X_test)\n",
    "X_test_tfidf = tfidf.transform(X_test_vec)"
   ]
  },
  {
   "cell_type": "code",
   "execution_count": 40,
   "id": "fae4584f-9336-45b6-850d-27dc0f651ba6",
   "metadata": {},
   "outputs": [],
   "source": [
    "y_preds = claf.predict(X_test_tfidf)"
   ]
  },
  {
   "cell_type": "code",
   "execution_count": 41,
   "id": "16d9d49d-a436-4c7c-bb6f-92f166168321",
   "metadata": {},
   "outputs": [],
   "source": [
    "labels = np.unique(y_preds)\n",
    "#confusion_matrix = confusion_matrix(y_test, y_preds, labels = labels)\n",
    "accuracy = (y_test == y_preds).mean()"
   ]
  },
  {
   "cell_type": "code",
   "execution_count": 44,
   "id": "2a0eca75-4972-47fb-b6f0-7a325899cbb9",
   "metadata": {},
   "outputs": [
    {
     "name": "stdout",
     "output_type": "stream",
     "text": [
      "0.9458094716748074\n"
     ]
    }
   ],
   "source": [
    "print(accuracy.mean())"
   ]
  },
  {
   "cell_type": "code",
   "execution_count": 43,
   "id": "0f3c62d2-e9ad-451c-8efe-7401cb31cabf",
   "metadata": {},
   "outputs": [],
   "source": [
    "#conf_matrix = multilabel_confusion_matrix(y_test, y_preds, labels = labels)"
   ]
  },
  {
   "cell_type": "code",
   "execution_count": null,
   "id": "48f3810e-e8c5-4668-9fce-5181c445eab8",
   "metadata": {},
   "outputs": [],
   "source": []
  },
  {
   "cell_type": "code",
   "execution_count": null,
   "id": "f893e661-788c-425d-b288-1148b0d0ab68",
   "metadata": {},
   "outputs": [],
   "source": []
  }
 ],
 "metadata": {
  "kernelspec": {
   "display_name": "Python 3 (ipykernel)",
   "language": "python",
   "name": "python3"
  },
  "language_info": {
   "codemirror_mode": {
    "name": "ipython",
    "version": 3
   },
   "file_extension": ".py",
   "mimetype": "text/x-python",
   "name": "python",
   "nbconvert_exporter": "python",
   "pygments_lexer": "ipython3",
   "version": "3.9.7"
  }
 },
 "nbformat": 4,
 "nbformat_minor": 5
}
